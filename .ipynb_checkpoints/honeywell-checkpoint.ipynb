{
 "cells": [
  {
   "cell_type": "code",
   "execution_count": null,
   "id": "ecf20ef9",
   "metadata": {},
   "outputs": [],
   "source": []
  },
  {
   "cell_type": "markdown",
   "id": "efced2b7",
   "metadata": {},
   "source": [
    "\n",
    "def parse_log_line(line):\n",
    "    # Regex to extract the components of the log entry\n",
    "    match = re.match(r\"(\\w{3})\\s+(\\d+)\\s+(\\d{2}:\\d{2}:\\d{2})\\s+(\\S+)\\s+(\\S+)\\[(\\d+)\\]:\\s+(.+)\", line)\n",
    "    if match:\n",
    "        month, day, time, hostname, process, pid, message = match.groups()\n",
    "        return month, day, hostname, f\"{process}[{pid}]\", message\n",
    "    return None\n",
    "\n",
    "def logs_to_csv(logfile_path, csv_path):\n",
    "    with open(logfile_path, 'r') as log_file, open(csv_path, 'w', newline='') as csv_file:\n",
    "        csv_writer = csv.writer(csv_file)\n",
    "        csv_writer.writerow([\"Month\", \"Date\", \"Hostname\", \"Process\", \"Message\"])  # Writing the header row\n",
    "\n",
    "        for line in log_file:\n",
    "            parsed_line = parse_log_line(line)\n",
    "            if parsed_line:\n",
    "                csv_writer.writerow(parsed_line)\n",
    "\n",
    "# Usage\n",
    "logs_to_csv('path_to_log_file.log', 'output.csv')"
   ]
  }
 ],
 "metadata": {
  "kernelspec": {
   "display_name": "Python 3 (ipykernel)",
   "language": "python",
   "name": "python3"
  },
  "language_info": {
   "codemirror_mode": {
    "name": "ipython",
    "version": 3
   },
   "file_extension": ".py",
   "mimetype": "text/x-python",
   "name": "python",
   "nbconvert_exporter": "python",
   "pygments_lexer": "ipython3",
   "version": "3.9.13"
  }
 },
 "nbformat": 4,
 "nbformat_minor": 5
}
